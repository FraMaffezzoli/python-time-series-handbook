{
 "cells": [
  {
   "cell_type": "code",
   "execution_count": null,
   "id": "61c29fba",
   "metadata": {},
   "outputs": [],
   "source": [
    "import numpy as np\n",
    "import matplotlib.pyplot as plt\n",
    "import plotly.graph_objects as go\n",
    "from scipy.integrate import solve_ivp\n",
    "from sklearn.neighbors import NearestNeighbors \n",
    "from sklearn.ensemble import RandomForestRegressor\n",
    "from sklearn.metrics import mean_squared_error\n",
    "from sklearn.decomposition import PCA\n",
    "from reservoir_computing.reservoir import Reservoir\n",
    "from reservoir_computing.utils import make_forecasting_dataset\n",
    "from tsa_course.lecture11 import computeLE, plot_bifurcation_diagram \n",
    "np.random.seed(0)"
   ]
  }
 ],
 "metadata": {
  "language_info": {
   "name": "python"
  }
 },
 "nbformat": 4,
 "nbformat_minor": 5
}
